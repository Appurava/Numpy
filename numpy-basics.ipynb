{
 "cells": [
  {
   "cell_type": "markdown",
   "id": "8a6c45a4-d385-446b-a722-cd0de506e9d9",
   "metadata": {},
   "source": [
    "# Gets Hand dirty with Numpy"
   ]
  },
  {
   "cell_type": "markdown",
   "id": "b26e5133-695c-4c90-9328-d108da7a6282",
   "metadata": {},
   "source": [
    "## Numpy Array Creation"
   ]
  },
  {
   "cell_type": "code",
   "execution_count": 1,
   "id": "ca13d264-50ab-41a9-9893-ceb38a1c9e1e",
   "metadata": {},
   "outputs": [],
   "source": [
    "import numpy as np"
   ]
  },
  {
   "cell_type": "code",
   "execution_count": 20,
   "id": "af2957cf-a82d-40ff-add3-123356191e8a",
   "metadata": {},
   "outputs": [
    {
     "data": {
      "text/plain": [
       "array([1, 2, 3])"
      ]
     },
     "metadata": {},
     "output_type": "display_data"
    },
    {
     "data": {
      "text/plain": [
       "array([[1, 2, 3],\n",
       "       [4, 5, 6]])"
      ]
     },
     "metadata": {},
     "output_type": "display_data"
    },
    {
     "data": {
      "text/plain": [
       "array([1, 2, 3, 4, 5, 6, 7, 8, 9])"
      ]
     },
     "metadata": {},
     "output_type": "display_data"
    },
    {
     "data": {
      "text/plain": [
       "array([ 1,  2,  3,  4,  5,  6,  7,  8,  9, 10, 11, 12, 13, 14, 15, 16, 17,\n",
       "       18, 19, 20])"
      ]
     },
     "metadata": {},
     "output_type": "display_data"
    },
    {
     "data": {
      "text/plain": [
       "array([[0., 0., 0., 0., 0.],\n",
       "       [0., 0., 0., 0., 0.],\n",
       "       [0., 0., 0., 0., 0.],\n",
       "       [0., 0., 0., 0., 0.],\n",
       "       [0., 0., 0., 0., 0.]])"
      ]
     },
     "metadata": {},
     "output_type": "display_data"
    },
    {
     "data": {
      "text/plain": [
       "array([[1., 1., 1., 1., 1.],\n",
       "       [1., 1., 1., 1., 1.],\n",
       "       [1., 1., 1., 1., 1.],\n",
       "       [1., 1., 1., 1., 1.],\n",
       "       [1., 1., 1., 1., 1.]])"
      ]
     },
     "metadata": {},
     "output_type": "display_data"
    },
    {
     "data": {
      "text/plain": [
       "array([[10, 10, 10, 10, 10],\n",
       "       [10, 10, 10, 10, 10],\n",
       "       [10, 10, 10, 10, 10],\n",
       "       [10, 10, 10, 10, 10],\n",
       "       [10, 10, 10, 10, 10]])"
      ]
     },
     "metadata": {},
     "output_type": "display_data"
    },
    {
     "data": {
      "text/plain": [
       "array([[0.1506786 , 0.80545749],\n",
       "       [0.75834002, 0.14337844]])"
      ]
     },
     "metadata": {},
     "output_type": "display_data"
    },
    {
     "data": {
      "text/plain": [
       "array([[4.9e-324, 9.9e-324, 1.5e-323],\n",
       "       [2.0e-323, 2.5e-323, 3.0e-323],\n",
       "       [3.5e-323, 4.0e-323, 4.4e-323]])"
      ]
     },
     "metadata": {},
     "output_type": "display_data"
    }
   ],
   "source": [
    "# Method 1\n",
    "display(np.array([1,2,3])) # 1D Numpy array creation with array\n",
    "\n",
    "# Method 2\n",
    "display(np.array([[1,2,3],[4,5,6]])) # 2D Numpy array creation\n",
    "\n",
    "# Method 3\n",
    "display(np.arange(1,10,1)) # Numpy array creation with a range\n",
    "\n",
    "# Method 4\n",
    "display(np.linspace(1,20,20,dtype=int)) # Numpy array with evenly spaced size 20 values from 1 to 10. Defining dtype for the type of numbers\n",
    "\n",
    "#Method 5\n",
    "display(np.zeros((5,5))) # Creating Numpy array of size 5 and 5 all zero value array.\n",
    "\n",
    "#Method 6\n",
    "display(np.ones((5,5))) # Creating Numpy all one value array of size 5 & 5\n",
    "\n",
    "#Method 7\n",
    "display(np.full((5,5),fill_value=10)) # Creating Numpy array with value as 10\n",
    "\n",
    "#Method 8\n",
    "display(np.random.random((2,2))) # Creating a random array\n",
    "\n",
    "#Method 9\n",
    "display(np.empty((3,3))) # Creating empty array"
   ]
  },
  {
   "cell_type": "markdown",
   "id": "102598d1-1d68-49d6-84f2-636621b52365",
   "metadata": {},
   "source": [
    "## Operations on Numpy Array"
   ]
  },
  {
   "cell_type": "code",
   "execution_count": 30,
   "id": "7b43182c-ff0d-479f-93b4-232bebf21a83",
   "metadata": {},
   "outputs": [
    {
     "data": {
      "text/plain": [
       "array([[ 1,  2,  3,  4,  5],\n",
       "       [ 6,  7,  8,  9, 10]])"
      ]
     },
     "metadata": {},
     "output_type": "display_data"
    }
   ],
   "source": [
    "#Reshaping an Array\n",
    "display(np.arange(1,11,1).reshape(2,5)) # Numpy reshape method to convert 1D array into 2D array\n",
    "\n",
    "#Shallow copy of an array\n",
    "sourceArray = np.arange(1,11,1)\n",
    "copiedArray = np.copy(sourceArray)\n",
    "\n",
    "#Deep copy an array\n",
    "arr = np.array([[1,2,3],[4,5,6]])\n",
    "arr1 = arr.copy() \n",
    "\n",
    "# Sorting an array\n",
    "arr.sort()"
   ]
  },
  {
   "cell_type": "markdown",
   "id": "b2fa9263-351e-4e83-ae2a-851754098371",
   "metadata": {},
   "source": [
    "## Information about Numpy Array"
   ]
  },
  {
   "cell_type": "code",
   "execution_count": 40,
   "id": "dba9d71e-9377-4fde-bd33-fa0a73a88875",
   "metadata": {},
   "outputs": [
    {
     "data": {
      "text/plain": [
       "(20, 10)"
      ]
     },
     "metadata": {},
     "output_type": "display_data"
    },
    {
     "data": {
      "text/plain": [
       "20"
      ]
     },
     "metadata": {},
     "output_type": "display_data"
    },
    {
     "data": {
      "text/plain": [
       "2"
      ]
     },
     "metadata": {},
     "output_type": "display_data"
    },
    {
     "data": {
      "text/plain": [
       "dtype('float64')"
      ]
     },
     "metadata": {},
     "output_type": "display_data"
    },
    {
     "data": {
      "text/plain": [
       "numpy.ndarray"
      ]
     },
     "execution_count": 40,
     "metadata": {},
     "output_type": "execute_result"
    }
   ],
   "source": [
    "arr = np.random.random((20,10))\n",
    "display(arr.shape) # This tells about number of rows and cols\n",
    "\n",
    "display(len(arr)) # This tells about number of rows\n",
    "\n",
    "display(arr.ndim) # It tells about dimension.\n",
    "\n",
    "display(arr.dtype) # It tells about the type of data it holds"
   ]
  },
  {
   "cell_type": "markdown",
   "id": "c37af954-3857-4850-b417-5a21e4629083",
   "metadata": {},
   "source": [
    "## Numpy Array Manipulation"
   ]
  },
  {
   "cell_type": "code",
   "execution_count": 57,
   "id": "bda2e61a-1246-4a01-97c6-756b9702bfb9",
   "metadata": {},
   "outputs": [
    {
     "data": {
      "text/plain": [
       "array([1, 2, 3, 4, 5, 6, 7, 8])"
      ]
     },
     "metadata": {},
     "output_type": "display_data"
    },
    {
     "data": {
      "text/plain": [
       "array([[1, 2, 3, 4],\n",
       "       [5, 6, 7, 8]])"
      ]
     },
     "metadata": {},
     "output_type": "display_data"
    },
    {
     "data": {
      "text/plain": [
       "array([1, 2, 3, 4, 5, 6, 7, 8])"
      ]
     },
     "metadata": {},
     "output_type": "display_data"
    },
    {
     "data": {
      "text/plain": [
       "array([[1, 5],\n",
       "       [2, 6],\n",
       "       [3, 7],\n",
       "       [4, 8]])"
      ]
     },
     "metadata": {},
     "output_type": "display_data"
    },
    {
     "data": {
      "text/plain": [
       "array([1, 2, 3, 4, 5, 6, 7, 8])"
      ]
     },
     "metadata": {},
     "output_type": "display_data"
    },
    {
     "data": {
      "text/plain": [
       "array([1, 5, 2, 3, 4])"
      ]
     },
     "metadata": {},
     "output_type": "display_data"
    }
   ],
   "source": [
    "#Append of items \n",
    "\n",
    "arr1 = np.arange(1,5,1)\n",
    "arr2 = np.arange(5,9,1)\n",
    "\n",
    "display(np.append(arr1, arr2)) # Combining both the arrays into one single array\n",
    "\n",
    "display(np.vstack((arr1, arr2))) # It works if the length of both array is same. It will create two rows and created an 2D array\n",
    "\n",
    "display(np.hstack((arr1, arr2))) \n",
    "\n",
    "display(np.column_stack((arr1, arr2)))\n",
    "\n",
    "display(np.concatenate((arr1, arr2))) # It append items\n",
    "\n",
    "display(np.insert(arr1, 1, 5)) # inserting object at loc\n",
    "\n",
    "\n"
   ]
  },
  {
   "cell_type": "markdown",
   "id": "d31ecb9c-41b6-4b94-9172-b560c2e9f20b",
   "metadata": {},
   "source": [
    "## Indexing in Numpy"
   ]
  },
  {
   "cell_type": "code",
   "execution_count": 70,
   "id": "c66a5b07-7db2-4832-805b-1debf09461b2",
   "metadata": {},
   "outputs": [
    {
     "data": {
      "text/plain": [
       "1"
      ]
     },
     "metadata": {},
     "output_type": "display_data"
    },
    {
     "data": {
      "text/plain": [
       "array([1, 2])"
      ]
     },
     "metadata": {},
     "output_type": "display_data"
    },
    {
     "data": {
      "text/plain": [
       "array([4, 3, 2, 1])"
      ]
     },
     "metadata": {},
     "output_type": "display_data"
    },
    {
     "data": {
      "text/plain": [
       "0.7341599968787564"
      ]
     },
     "metadata": {},
     "output_type": "display_data"
    },
    {
     "data": {
      "text/plain": [
       "array([[0.73416   , 0.12548042, 0.56028829, 0.58057037, 0.32663466],\n",
       "       [0.55229293, 0.13739377, 0.94530655, 0.13419085, 0.92948475],\n",
       "       [0.92946206, 0.01581445, 0.5756228 , 0.7280339 , 0.96558276],\n",
       "       [0.90106163, 0.34090956, 0.74971027, 0.93311814, 0.26141708],\n",
       "       [0.28093174, 0.02613143, 0.90948145, 0.57721205, 0.21830769]])"
      ]
     },
     "metadata": {},
     "output_type": "display_data"
    },
    {
     "data": {
      "text/plain": [
       "array([[0.73416   ],\n",
       "       [0.55229293],\n",
       "       [0.92946206],\n",
       "       [0.90106163],\n",
       "       [0.28093174],\n",
       "       [0.17128581],\n",
       "       [0.98934886],\n",
       "       [0.00778718],\n",
       "       [0.78284151],\n",
       "       [0.98366359]])"
      ]
     },
     "metadata": {},
     "output_type": "display_data"
    },
    {
     "data": {
      "text/plain": [
       "array([[0.73416   ],\n",
       "       [0.92946206],\n",
       "       [0.28093174],\n",
       "       [0.98934886],\n",
       "       [0.78284151]])"
      ]
     },
     "metadata": {},
     "output_type": "display_data"
    },
    {
     "data": {
      "text/plain": [
       "array([0.73416   , 0.87197614, 0.94530655, 0.92948475, 0.71919004,\n",
       "       0.96081328, 0.92946206, 0.7280339 , 0.96558276, 0.81714623,\n",
       "       0.92026023, 0.90106163, 0.74971027, 0.93311814, 0.88994706,\n",
       "       0.90948145, 0.99179113, 0.84624403, 0.70080132, 0.98934886,\n",
       "       0.87408097, 0.88675269, 0.78284151, 0.94123331, 0.98366359,\n",
       "       0.96781392])"
      ]
     },
     "metadata": {},
     "output_type": "display_data"
    }
   ],
   "source": [
    "#Slicing of 1D\n",
    "arr1 = np.arange(1,5,1)\n",
    "display(arr1[0]) # extracting specific item\n",
    "\n",
    "display(arr1[0:2]) # extracting in a range\n",
    "\n",
    "display(arr1[::-1]) # Extracting all items from array in reverse order\n",
    "\n",
    "# Slicing of 2D\n",
    "arr2D = np.random.random((10,10))\n",
    "display(arr2D[0,0]) # 0 row and 0 column position\n",
    "\n",
    "display(arr2D[0:5,0:5]) # top 5 rows and 5 cols\n",
    "\n",
    "display(arr2D[:,:1]) # Selecting all rows and first columns\n",
    "\n",
    "display(arr2D[::2,:1]) # Selecting all alternate rows and first columns\n",
    "\n",
    "display(arr2D[arr2D > 0.7]) # Filtering records based on its value. Here we are selecting only details greater then 0.7\n",
    "\n",
    "\n"
   ]
  },
  {
   "cell_type": "markdown",
   "id": "0f69bbfe-8850-4cb4-8b3c-850713e1b063",
   "metadata": {},
   "source": [
    "## Slicing Array"
   ]
  },
  {
   "cell_type": "code",
   "execution_count": 84,
   "id": "dd5408fd-5f9e-49cb-9b93-2d9a5d9d93e9",
   "metadata": {},
   "outputs": [
    {
     "data": {
      "text/plain": [
       "[array([ 1,  2,  3,  4,  5,  6,  7,  8,  9, 10, 11, 12]),\n",
       " array([13, 14, 15, 16, 17, 18, 19, 20, 21, 22, 23, 24])]"
      ]
     },
     "metadata": {},
     "output_type": "display_data"
    },
    {
     "data": {
      "text/plain": [
       "[array([1, 2]),\n",
       " array([3]),\n",
       " array([ 4,  5,  6,  7,  8,  9, 10, 11, 12, 13, 14, 15, 16, 17, 18, 19, 20,\n",
       "        21, 22, 23, 24])]"
      ]
     },
     "metadata": {},
     "output_type": "display_data"
    },
    {
     "data": {
      "text/plain": [
       "[array([1, 2, 3, 4, 5, 6]),\n",
       " array([ 7,  8,  9, 10, 11, 12]),\n",
       " array([13, 14, 15, 16, 17, 18]),\n",
       " array([19, 20, 21, 22, 23, 24])]"
      ]
     },
     "metadata": {},
     "output_type": "display_data"
    }
   ],
   "source": [
    "arr1 = np.arange(1,25,1)\n",
    "\n",
    "display(np.split(arr1, 2)) # It will split the array into equal parts of 2\n",
    "\n",
    "display(np.split(arr1, (2,3))) # It will split the array into three parts [1,2], [3],[4...]\n",
    "\n",
    "display(np.hsplit(arr1, 4)) # It will split the number of rows into equal parts. Tuple can also be used"
   ]
  },
  {
   "cell_type": "markdown",
   "id": "e728da07-f565-4275-8629-321950cb24d6",
   "metadata": {},
   "source": [
    "## Misc"
   ]
  },
  {
   "cell_type": "code",
   "execution_count": 91,
   "id": "bbf4193d-0e4e-4d43-98f3-fc6663914c83",
   "metadata": {},
   "outputs": [
    {
     "data": {
      "text/plain": [
       "array([0.95621231, 0.08994474, 0.98728628, 0.07855061])"
      ]
     },
     "metadata": {},
     "output_type": "display_data"
    },
    {
     "data": {
      "text/plain": [
       "array([[0.95621231, 0.98728628],\n",
       "       [0.08994474, 0.07855061]])"
      ]
     },
     "metadata": {},
     "output_type": "display_data"
    },
    {
     "data": {
      "text/plain": [
       "0.5279984846878782"
      ]
     },
     "metadata": {},
     "output_type": "display_data"
    },
    {
     "data": {
      "text/plain": [
       "0.5230785267939388"
      ]
     },
     "metadata": {},
     "output_type": "display_data"
    },
    {
     "data": {
      "text/plain": [
       "0.4439050647582648"
      ]
     },
     "metadata": {},
     "output_type": "display_data"
    },
    {
     "data": {
      "text/plain": [
       "array([[1., 1.],\n",
       "       [1., 1.]])"
      ]
     },
     "metadata": {},
     "output_type": "display_data"
    }
   ],
   "source": [
    "# Flattern\n",
    "\n",
    "arr = np.random.random((2,2))\n",
    "display(arr.flatten()) # It will convert the array into 1D array\n",
    "\n",
    "display(arr.T) # It will switch rows into cols\n",
    "\n",
    "display(np.mean(arr))\n",
    "\n",
    "display(np.median(arr))\n",
    "\n",
    "display(np.std(arr)) # It calculates standard deviation\n",
    "\n",
    "display(np.corrcoef(arr)) # It calculates co-efficient"
   ]
  },
  {
   "cell_type": "code",
   "execution_count": null,
   "id": "990c4040-84a8-485f-926c-e50465b36c60",
   "metadata": {},
   "outputs": [],
   "source": []
  },
  {
   "cell_type": "code",
   "execution_count": null,
   "id": "a0c8853f-be69-49f1-aec8-945da310e167",
   "metadata": {},
   "outputs": [],
   "source": []
  },
  {
   "cell_type": "code",
   "execution_count": null,
   "id": "addf32c4-75e6-4998-9f18-ad9e7a5b725b",
   "metadata": {},
   "outputs": [],
   "source": []
  },
  {
   "cell_type": "code",
   "execution_count": null,
   "id": "f0581ff4-045f-4961-b91c-b06eefc601c0",
   "metadata": {},
   "outputs": [],
   "source": []
  }
 ],
 "metadata": {
  "kernelspec": {
   "display_name": "Python 3 (ipykernel)",
   "language": "python",
   "name": "python3"
  },
  "language_info": {
   "codemirror_mode": {
    "name": "ipython",
    "version": 3
   },
   "file_extension": ".py",
   "mimetype": "text/x-python",
   "name": "python",
   "nbconvert_exporter": "python",
   "pygments_lexer": "ipython3",
   "version": "3.12.3"
  }
 },
 "nbformat": 4,
 "nbformat_minor": 5
}
